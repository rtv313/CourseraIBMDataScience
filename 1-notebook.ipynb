{
 "cells": [
  {
   "cell_type": "markdown",
   "id": "7864ba28-cd4a-4f7f-9bc6-f7142b8ac197",
   "metadata": {},
   "source": [
    "# Data Science Tools and Ecosystem are summarized."
   ]
  },
  {
   "cell_type": "markdown",
   "id": "2cce1a0e-f8a9-478f-9531-b96578770cfc",
   "metadata": {},
   "source": [
    "## **Objectives:**\n",
    "- List of popular languages for Data Science\n",
    "- Libraries used by Data Scientists\n",
    "- Data Science Tools\n",
    "- Arithmetic expressions in Python\n",
    "- Markdown"
   ]
  },
  {
   "cell_type": "markdown",
   "id": "e660d967-c6ae-473c-bc81-23d5b2ff5212",
   "metadata": {},
   "source": [
    "In this notebook, Data Science Tools and Ecosystem are summarized."
   ]
  },
  {
   "cell_type": "markdown",
   "id": "19f09844-6248-47aa-9532-8c5f3feea049",
   "metadata": {},
   "source": [
    "Some of the popular languages that Data Scientists use are:\n",
    "1. Python\n",
    "2. R\n",
    "3. Java\n",
    "4. SQL\n",
    "5. Julia"
   ]
  },
  {
   "cell_type": "markdown",
   "id": "95112500-8a14-42aa-896b-12d2c6f32e52",
   "metadata": {},
   "source": [
    "Some of the commonly used libraries used by Data Scientists include:\n",
    "1. Tensorflow\n",
    "2. Scikit-Learn\n",
    "3. Keras\n",
    "4. Pandas\n",
    "5. Numpy"
   ]
  },
  {
   "cell_type": "markdown",
   "id": "39a1ff3f-239b-4690-86e3-189d81ea6998",
   "metadata": {},
   "source": [
    "### Data Science Tools\n",
    "1. Hadoop\n",
    "2. Spark\n",
    "3. Jupyter Lab"
   ]
  },
  {
   "cell_type": "markdown",
   "id": "14248d82-7845-4940-ac04-9fe7fbd78f35",
   "metadata": {},
   "source": [
    "### Below are a few examples of evaluating arithmetic expressions in Python"
   ]
  },
  {
   "cell_type": "code",
   "execution_count": 2,
   "id": "a4b23c78-cac6-456d-a668-5674d7bdc5bc",
   "metadata": {},
   "outputs": [
    {
     "name": "stdout",
     "output_type": "stream",
     "text": [
      "17\n"
     ]
    }
   ],
   "source": [
    "# This a simple arithmetic expression to mutiply then add integers\n",
    "x = (3*4) + 5\n",
    "print(x)"
   ]
  },
  {
   "cell_type": "code",
   "execution_count": 3,
   "id": "3da5def9-0dd6-4e2e-b585-ce59bd6544de",
   "metadata": {},
   "outputs": [
    {
     "name": "stdout",
     "output_type": "stream",
     "text": [
      "3.3333333333333335\n"
     ]
    }
   ],
   "source": [
    "# This will convert 200 minutes to hours by diving by 60\n",
    "x = 200 / 60 \n",
    "print(x)"
   ]
  },
  {
   "cell_type": "markdown",
   "id": "8d04a57e-c004-4b8b-bcb0-9fd83d978d4d",
   "metadata": {},
   "source": [
    "## Author:\n",
    "Raul Rodolfo Trevino Vazquez "
   ]
  }
 ],
 "metadata": {
  "kernelspec": {
   "display_name": "Python 3 (ipykernel)",
   "language": "python",
   "name": "python3"
  },
  "language_info": {
   "codemirror_mode": {
    "name": "ipython",
    "version": 3
   },
   "file_extension": ".py",
   "mimetype": "text/x-python",
   "name": "python",
   "nbconvert_exporter": "python",
   "pygments_lexer": "ipython3",
   "version": "3.12.7"
  }
 },
 "nbformat": 4,
 "nbformat_minor": 5
}
